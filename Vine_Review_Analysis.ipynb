{
  "nbformat": 4,
  "nbformat_minor": 0,
  "metadata": {
    "colab": {
      "name": "Vine_Review_Analysis.ipynb",
      "provenance": [],
      "collapsed_sections": []
    },
    "kernelspec": {
      "name": "python3",
      "display_name": "Python 3"
    },
    "nteract": {
      "version": "0.12.3"
    },
    "language_info": {
      "name": "python"
    }
  },
  "cells": [
    {
      "cell_type": "code",
      "metadata": {
        "id": "V58rxea0HqSa",
        "colab": {
          "base_uri": "https://localhost:8080/"
        },
        "outputId": "108d11dc-a3fa-4abb-84bd-c69de79b0fd6"
      },
      "source": [
        "import os\n",
        "# Find the latest version of spark 3.0 from http://www.apache.org/dist/spark/ and enter as the spark version\n",
        "# For example:\n",
        "# spark_version = 'spark-3.0.3'\n",
        "spark_version = 'spark-3.0.3'\n",
        "os.environ['SPARK_VERSION']=spark_version\n",
        "\n",
        "# Install Spark and Java\n",
        "!apt-get update\n",
        "!apt-get install openjdk-11-jdk-headless -qq > /dev/null\n",
        "!wget -q http://www.apache.org/dist/spark/$SPARK_VERSION/$SPARK_VERSION-bin-hadoop2.7.tgz\n",
        "!tar xf $SPARK_VERSION-bin-hadoop2.7.tgz\n",
        "!pip install -q findspark\n",
        "\n",
        "# Set Environment Variables\n",
        "import os\n",
        "os.environ[\"JAVA_HOME\"] = \"/usr/lib/jvm/java-11-openjdk-amd64\"\n",
        "os.environ[\"SPARK_HOME\"] = f\"/content/{spark_version}-bin-hadoop2.7\"\n",
        "\n",
        "# Start a SparkSession\n",
        "import findspark\n",
        "findspark.init()"
      ],
      "execution_count": 1,
      "outputs": [
        {
          "output_type": "stream",
          "name": "stdout",
          "text": [
            "\r0% [Working]\r            \rHit:1 http://archive.ubuntu.com/ubuntu bionic InRelease\n",
            "\r0% [Connecting to security.ubuntu.com (185.125.190.36)] [Connected to cloud.r-p\r                                                                               \rGet:2 http://archive.ubuntu.com/ubuntu bionic-updates InRelease [88.7 kB]\n",
            "\r                                                                               \rGet:3 https://cloud.r-project.org/bin/linux/ubuntu bionic-cran40/ InRelease [3,626 B]\n",
            "Get:4 http://archive.ubuntu.com/ubuntu bionic-backports InRelease [74.6 kB]\n",
            "Ign:5 https://developer.download.nvidia.com/compute/cuda/repos/ubuntu1804/x86_64  InRelease\n",
            "Get:6 http://security.ubuntu.com/ubuntu bionic-security InRelease [88.7 kB]\n",
            "Get:7 http://ppa.launchpad.net/c2d4u.team/c2d4u4.0+/ubuntu bionic InRelease [15.9 kB]\n",
            "Ign:8 https://developer.download.nvidia.com/compute/machine-learning/repos/ubuntu1804/x86_64  InRelease\n",
            "Get:9 https://developer.download.nvidia.com/compute/cuda/repos/ubuntu1804/x86_64  Release [696 B]\n",
            "Hit:10 https://developer.download.nvidia.com/compute/machine-learning/repos/ubuntu1804/x86_64  Release\n",
            "Get:11 https://developer.download.nvidia.com/compute/cuda/repos/ubuntu1804/x86_64  Release.gpg [836 B]\n",
            "Hit:12 http://ppa.launchpad.net/cran/libgit2/ubuntu bionic InRelease\n",
            "Get:13 http://ppa.launchpad.net/deadsnakes/ppa/ubuntu bionic InRelease [15.9 kB]\n",
            "Hit:14 http://ppa.launchpad.net/graphics-drivers/ppa/ubuntu bionic InRelease\n",
            "Get:15 http://archive.ubuntu.com/ubuntu bionic-updates/main amd64 Packages [3,134 kB]\n",
            "Get:16 http://archive.ubuntu.com/ubuntu bionic-updates/universe amd64 Packages [2,268 kB]\n",
            "Get:17 http://ppa.launchpad.net/c2d4u.team/c2d4u4.0+/ubuntu bionic/main Sources [1,947 kB]\n",
            "Get:18 http://ppa.launchpad.net/c2d4u.team/c2d4u4.0+/ubuntu bionic/main amd64 Packages [996 kB]\n",
            "Get:20 https://developer.download.nvidia.com/compute/cuda/repos/ubuntu1804/x86_64  Packages [953 kB]\n",
            "Get:21 http://security.ubuntu.com/ubuntu bionic-security/universe amd64 Packages [1,490 kB]\n",
            "Get:22 http://ppa.launchpad.net/deadsnakes/ppa/ubuntu bionic/main amd64 Packages [45.3 kB]\n",
            "Get:23 http://security.ubuntu.com/ubuntu bionic-security/main amd64 Packages [2,695 kB]\n",
            "Fetched 13.8 MB in 7s (2,081 kB/s)\n",
            "Reading package lists... Done\n"
          ]
        }
      ]
    },
    {
      "cell_type": "code",
      "metadata": {
        "id": "_xKwTpATHqSe",
        "colab": {
          "base_uri": "https://localhost:8080/"
        },
        "outputId": "09603835-d921-423a-db02-d55c4b307be3"
      },
      "source": [
        "# Download the Postgres driver that will allow Spark to interact with Postgres.\n",
        "!wget https://jdbc.postgresql.org/download/postgresql-42.2.16.jar"
      ],
      "execution_count": 2,
      "outputs": [
        {
          "output_type": "stream",
          "name": "stdout",
          "text": [
            "--2022-04-16 23:51:17--  https://jdbc.postgresql.org/download/postgresql-42.2.16.jar\n",
            "Resolving jdbc.postgresql.org (jdbc.postgresql.org)... 72.32.157.228, 2001:4800:3e1:1::228\n",
            "Connecting to jdbc.postgresql.org (jdbc.postgresql.org)|72.32.157.228|:443... connected.\n",
            "HTTP request sent, awaiting response... 200 OK\n",
            "Length: 1002883 (979K) [application/java-archive]\n",
            "Saving to: ‘postgresql-42.2.16.jar’\n",
            "\n",
            "postgresql-42.2.16. 100%[===================>] 979.38K  5.69MB/s    in 0.2s    \n",
            "\n",
            "2022-04-16 23:51:18 (5.69 MB/s) - ‘postgresql-42.2.16.jar’ saved [1002883/1002883]\n",
            "\n"
          ]
        }
      ]
    },
    {
      "cell_type": "code",
      "metadata": {
        "id": "MMqDAjVS0KN9"
      },
      "source": [
        "from pyspark.sql import SparkSession\n",
        "spark = SparkSession.builder.appName(\"M16-Amazon-Challenge\").config(\"spark.driver.extraClassPath\",\"/content/postgresql-42.2.16.jar\").getOrCreate()"
      ],
      "execution_count": 3,
      "outputs": []
    },
    {
      "cell_type": "markdown",
      "metadata": {
        "id": "cyBsySGuY-9V"
      },
      "source": [
        "### Load Amazon Data into Spark DataFrame"
      ]
    },
    {
      "cell_type": "code",
      "metadata": {
        "id": "CtCmBhQJY-9Z"
      },
      "source": [
        "from pyspark import SparkFiles\n",
        "url = \"https://s3.amazonaws.com/amazon-reviews-pds/tsv/amazon_reviews_us_Lawn_and_Garden_v1_00.tsv.gz\"\n",
        "spark.sparkContext.addFile(url)\n",
        "df = spark.read.option(\"encoding\", \"UTF-8\").csv(SparkFiles.get(\"\"), sep=\"\\t\", header=True, inferSchema=True)"
      ],
      "execution_count": 4,
      "outputs": []
    },
    {
      "cell_type": "markdown",
      "metadata": {
        "id": "2yUSe55VY-9t"
      },
      "source": [
        "### Create DataFrames to match tables"
      ]
    },
    {
      "cell_type": "code",
      "metadata": {
        "id": "C8REmY1aY-9u",
        "colab": {
          "base_uri": "https://localhost:8080/"
        },
        "outputId": "b1a18bc8-f78f-457b-b394-7c72c704ef99"
      },
      "source": [
        "from pyspark.sql.functions import to_date\n",
        "# Read in the Review dataset as a DataFrame\n",
        "df.show()"
      ],
      "execution_count": 5,
      "outputs": [
        {
          "output_type": "stream",
          "name": "stdout",
          "text": [
            "+-----------+-----------+--------------+----------+--------------+--------------------+----------------+-----------+-------------+-----------+----+-----------------+--------------------+--------------------+-----------+\n",
            "|marketplace|customer_id|     review_id|product_id|product_parent|       product_title|product_category|star_rating|helpful_votes|total_votes|vine|verified_purchase|     review_headline|         review_body|review_date|\n",
            "+-----------+-----------+--------------+----------+--------------+--------------------+----------------+-----------+-------------+-----------+----+-----------------+--------------------+--------------------+-----------+\n",
            "|         US|   32787517| RED72VWWCOS7S|B008HDQYLQ|     348668413|Garden Weasel Gar...| Lawn and Garden|          1|            2|          8|   N|                Y|            One Star|I don't hate the ...| 2015-08-31|\n",
            "|         US|   16374060| RZHWQ208LTEPV|B005OBZBD6|     264704759|10 Foot Mc4 Solar...| Lawn and Garden|          5|            0|          0|   N|                Y|          Five Stars|        worked great| 2015-08-31|\n",
            "|         US|    9984817|R37LBC3XAVLYOO|B00RQL8U2G|      95173602|GE String A Long ...| Lawn and Garden|          5|            4|          5|   N|                Y|just what i neede...|just what i neede...| 2015-08-31|\n",
            "|         US|   12635190|R3L7XJMA0MVJWC|B0081SBO4Y|     835659279|Key Pair Lawn Wit...| Lawn and Garden|          5|            0|          0|   N|                Y|                Keys|Needed replacemen...| 2015-08-31|\n",
            "|         US|   43905102|R2I2GHSI7T1UBN|B008E6OK3U|     539243347|Zodiac R0502300 L...| Lawn and Garden|          1|            5|          6|   N|                Y|       Too expensive|Assuming you don'...| 2015-08-31|\n",
            "|         US|   52596997|R2GFFKHK4I6VMX|B00W6NTULY|     337446474|Hirts Gardens Swe...| Lawn and Garden|          5|            0|          0|   N|                Y|                Nice|Beautifully packa...| 2015-08-31|\n",
            "|         US|   43871104|R1R0UDX2XAN1S4|B00GXUMYKA|     468857193|AGPtEK 12 PCS Smo...| Lawn and Garden|          4|            0|          0|   N|                Y|These were pretty...|These were pretty...| 2015-08-31|\n",
            "|         US|   11346008|R22C8FMBSTFRY8|B005EIX8JS|     125753094|Design Toscano Ea...| Lawn and Garden|          5|            2|          2|   N|                Y|Kids love it. WIs...|Its in the center...| 2015-08-31|\n",
            "|         US|   49206471|R118NNIQ75XPGO|B000HJBKMQ|     834273114|TERRO T300 Liquid...| Lawn and Garden|          3|            0|          0|   N|                Y|      A little messy|The ants were att...| 2015-08-31|\n",
            "|         US|   37596267|R30HYXHZQ49621|B004LY59V6|     612086079|BLACK+DECKER LBXR...| Lawn and Garden|          2|            0|          0|   N|                Y|Does not hold a c...|This is advertise...| 2015-08-31|\n",
            "|         US|   31554283|R3EMLKY0GF1E90|B00CAVM85M|     280334010|Reach 'n Spray Pe...| Lawn and Garden|          5|            0|          0|   N|                Y|          Five Stars|Well made product...| 2015-08-31|\n",
            "|         US|   43211735|R23BX7EGJMGQJR|B00DP6X1LG|     233116679|Puro-Kleen Ultra-...| Lawn and Garden|          5|            1|          2|   N|                Y|It's easy to cut ...|I used this for a...| 2015-08-31|\n",
            "|         US|   25705116|R2Z4B6SDEAZF6E|B00025H2PY|     592807498|Diatomaceous Eart...| Lawn and Garden|          5|            0|          0|   N|                Y|          Five Stars|Great stuff. Gets...| 2015-08-31|\n",
            "|         US|   47041108|R35289PGJERP5J|B0079GHJXY|     408290044|Perky-Pet 312C Pa...| Lawn and Garden|          5|            0|          0|   N|                Y|          Five Stars|   Very good quality| 2015-08-31|\n",
            "|         US|    1534667|R39BPRMDKKIZL2|B004HFJ762|     404737140|Crossbow Dow Spec...| Lawn and Garden|          1|            4|          6|   N|                Y|Wrong Product- No...|This product was ...| 2015-08-31|\n",
            "|         US|   52287759| R6WFPPBS1DZMG|B00004RAGL|     773636542|Apex REM 15 15-Fo...| Lawn and Garden|          5|            0|          0|   N|                Y|dehumidifier drai...|the hose worked w...| 2015-08-31|\n",
            "|         US|   37010286| RK72M0ZBV9YLS|B010PWBNNK|     461072629|Elucto Electric B...| Lawn and Garden|          1|            3|          3|   N|                Y|   not easy it seems|I haven't killed ...| 2015-08-31|\n",
            "|         US|   30576559| RX5G150AUWRDJ|B00T77AWY6|     365662076|Ohuhu® 100 Ft Exp...| Lawn and Garden|          1|            0|          0|   N|                Y|          Five Stars|I m very disappoi...| 2015-08-31|\n",
            "|         US|   10291713|R1TMSZWIT21A31|B000UJH6HQ|     228393894|Toro 53746 Drip B...| Lawn and Garden|          3|            1|          2|   N|                Y|     Could be better|this is the fourt...| 2015-08-31|\n",
            "|         US|   50656780|R2FURVPW763CIM|B000HJBKMQ|     834273114|TERRO T300 Liquid...| Lawn and Garden|          5|            0|          0|   N|                Y|Sugar Ants are ho...|Best thing you ca...| 2015-08-31|\n",
            "+-----------+-----------+--------------+----------+--------------+--------------------+----------------+-----------+-------------+-----------+----+-----------------+--------------------+--------------------+-----------+\n",
            "only showing top 20 rows\n",
            "\n"
          ]
        }
      ]
    },
    {
      "cell_type": "code",
      "metadata": {
        "id": "lzMmkdKmY--D",
        "colab": {
          "base_uri": "https://localhost:8080/"
        },
        "outputId": "ae418328-063b-47ae-e299-0c87827d8fc6"
      },
      "source": [
        "# Create the vine_table. DataFrame\n",
        "# vine_df = df.select([])\n",
        "vine_df = df.select([\"review_id\", \"star_rating\", \"helpful_votes\", \"total_votes\", \"vine\", \"verified_purchase\"])\n",
        "vine_df.show()"
      ],
      "execution_count": 6,
      "outputs": [
        {
          "output_type": "stream",
          "name": "stdout",
          "text": [
            "+--------------+-----------+-------------+-----------+----+-----------------+\n",
            "|     review_id|star_rating|helpful_votes|total_votes|vine|verified_purchase|\n",
            "+--------------+-----------+-------------+-----------+----+-----------------+\n",
            "| RED72VWWCOS7S|          1|            2|          8|   N|                Y|\n",
            "| RZHWQ208LTEPV|          5|            0|          0|   N|                Y|\n",
            "|R37LBC3XAVLYOO|          5|            4|          5|   N|                Y|\n",
            "|R3L7XJMA0MVJWC|          5|            0|          0|   N|                Y|\n",
            "|R2I2GHSI7T1UBN|          1|            5|          6|   N|                Y|\n",
            "|R2GFFKHK4I6VMX|          5|            0|          0|   N|                Y|\n",
            "|R1R0UDX2XAN1S4|          4|            0|          0|   N|                Y|\n",
            "|R22C8FMBSTFRY8|          5|            2|          2|   N|                Y|\n",
            "|R118NNIQ75XPGO|          3|            0|          0|   N|                Y|\n",
            "|R30HYXHZQ49621|          2|            0|          0|   N|                Y|\n",
            "|R3EMLKY0GF1E90|          5|            0|          0|   N|                Y|\n",
            "|R23BX7EGJMGQJR|          5|            1|          2|   N|                Y|\n",
            "|R2Z4B6SDEAZF6E|          5|            0|          0|   N|                Y|\n",
            "|R35289PGJERP5J|          5|            0|          0|   N|                Y|\n",
            "|R39BPRMDKKIZL2|          1|            4|          6|   N|                Y|\n",
            "| R6WFPPBS1DZMG|          5|            0|          0|   N|                Y|\n",
            "| RK72M0ZBV9YLS|          1|            3|          3|   N|                Y|\n",
            "| RX5G150AUWRDJ|          1|            0|          0|   N|                Y|\n",
            "|R1TMSZWIT21A31|          3|            1|          2|   N|                Y|\n",
            "|R2FURVPW763CIM|          5|            0|          0|   N|                Y|\n",
            "+--------------+-----------+-------------+-----------+----+-----------------+\n",
            "only showing top 20 rows\n",
            "\n"
          ]
        }
      ]
    },
    {
      "cell_type": "markdown",
      "source": [
        "# **Deliverable 2**"
      ],
      "metadata": {
        "id": "nG9NYJH5Q5O_"
      }
    },
    {
      "cell_type": "code",
      "source": [
        "# Step 1: Filter the data and create a new DataFrame or table to retrieve all the rows where the total_votes count is equal to or greater than 20 to pick \n",
        "# reviews that are more likely to be helpful and to avoid having division by zero errors later on.\n",
        "\n",
        "filtered_df = vine_df.filter(vine_df[\"total_votes\"] >= 20)\n",
        "filtered_df.show()"
      ],
      "metadata": {
        "colab": {
          "base_uri": "https://localhost:8080/"
        },
        "id": "j_bBNenERFEu",
        "outputId": "aec6c1fa-f3e6-4bc1-d3b8-6d0de36b4dc2"
      },
      "execution_count": 7,
      "outputs": [
        {
          "output_type": "stream",
          "name": "stdout",
          "text": [
            "+--------------+-----------+-------------+-----------+----+-----------------+\n",
            "|     review_id|star_rating|helpful_votes|total_votes|vine|verified_purchase|\n",
            "+--------------+-----------+-------------+-----------+----+-----------------+\n",
            "| RQQ3KVTU5TJ4I|          5|           24|         29|   N|                Y|\n",
            "|R3FELXWV9T5CWE|          2|           22|         24|   N|                Y|\n",
            "| ROBYK6EZYK398|          5|           29|         30|   N|                Y|\n",
            "|R2RKCSAG6GBA4A|          1|            8|         28|   N|                Y|\n",
            "|R2YVBBR6NXIA4V|          5|           25|         28|   N|                N|\n",
            "|R2AVTBDIVG2AW4|          5|           26|         26|   N|                N|\n",
            "|R1Z2LNN3FANMTO|          1|           20|         24|   N|                N|\n",
            "|  RLNULBKRWNNR|          5|           42|         43|   N|                Y|\n",
            "| R9QNQUL94RX1F|          3|           27|         33|   N|                Y|\n",
            "| RTULFZTUS1VBP|          5|           51|         52|   N|                Y|\n",
            "|R1BM9RBQWI62O2|          5|           43|         60|   N|                N|\n",
            "| RWB6V9IYCOJFX|          4|           39|         41|   N|                Y|\n",
            "|R15FA7GCXKC7YE|          1|           40|         41|   N|                Y|\n",
            "|R2OQAI6AV8AH8Z|          1|           19|         32|   N|                Y|\n",
            "|R2XD5CWZ4Z87ZR|          5|           19|         25|   N|                Y|\n",
            "|R3LLBXVCEY5JKB|          1|           33|         35|   N|                Y|\n",
            "| RQWM8U7YH93TT|          4|           92|         93|   N|                N|\n",
            "|R2DEO6P7BEZ9UI|          5|           38|         38|   N|                Y|\n",
            "|R2CKYIHUSK3IEP|          1|           74|         88|   N|                Y|\n",
            "| RY0DMUQKNF8MT|          5|           32|         33|   N|                Y|\n",
            "+--------------+-----------+-------------+-----------+----+-----------------+\n",
            "only showing top 20 rows\n",
            "\n"
          ]
        }
      ]
    },
    {
      "cell_type": "code",
      "source": [
        "# Step 2: Filter the new DataFrame or table created in Step 1 and create a new DataFrame or table to retrieve all the rows where the number of helpful_votes \n",
        "# divided by total_votes is equal to or greater than 50%.\n",
        "\n",
        "helpful50_df = filtered_df.filter((filtered_df[\"helpful_votes\"]/ filtered_df[\"total_votes\"]) >= .5)\n",
        "\n",
        "helpful50_df.show()"
      ],
      "metadata": {
        "colab": {
          "base_uri": "https://localhost:8080/"
        },
        "id": "jzk31gu2TCjs",
        "outputId": "98718bcb-588b-4b20-c9f4-d29094ba1792"
      },
      "execution_count": 9,
      "outputs": [
        {
          "output_type": "stream",
          "name": "stdout",
          "text": [
            "+--------------+-----------+-------------+-----------+----+-----------------+\n",
            "|     review_id|star_rating|helpful_votes|total_votes|vine|verified_purchase|\n",
            "+--------------+-----------+-------------+-----------+----+-----------------+\n",
            "| RQQ3KVTU5TJ4I|          5|           24|         29|   N|                Y|\n",
            "|R3FELXWV9T5CWE|          2|           22|         24|   N|                Y|\n",
            "| ROBYK6EZYK398|          5|           29|         30|   N|                Y|\n",
            "|R2YVBBR6NXIA4V|          5|           25|         28|   N|                N|\n",
            "|R2AVTBDIVG2AW4|          5|           26|         26|   N|                N|\n",
            "|R1Z2LNN3FANMTO|          1|           20|         24|   N|                N|\n",
            "|  RLNULBKRWNNR|          5|           42|         43|   N|                Y|\n",
            "| R9QNQUL94RX1F|          3|           27|         33|   N|                Y|\n",
            "| RTULFZTUS1VBP|          5|           51|         52|   N|                Y|\n",
            "|R1BM9RBQWI62O2|          5|           43|         60|   N|                N|\n",
            "| RWB6V9IYCOJFX|          4|           39|         41|   N|                Y|\n",
            "|R15FA7GCXKC7YE|          1|           40|         41|   N|                Y|\n",
            "|R2OQAI6AV8AH8Z|          1|           19|         32|   N|                Y|\n",
            "|R2XD5CWZ4Z87ZR|          5|           19|         25|   N|                Y|\n",
            "|R3LLBXVCEY5JKB|          1|           33|         35|   N|                Y|\n",
            "| RQWM8U7YH93TT|          4|           92|         93|   N|                N|\n",
            "|R2DEO6P7BEZ9UI|          5|           38|         38|   N|                Y|\n",
            "|R2CKYIHUSK3IEP|          1|           74|         88|   N|                Y|\n",
            "| RY0DMUQKNF8MT|          5|           32|         33|   N|                Y|\n",
            "|R33XCAJDTPOUQS|          5|           22|         23|   N|                Y|\n",
            "+--------------+-----------+-------------+-----------+----+-----------------+\n",
            "only showing top 20 rows\n",
            "\n"
          ]
        }
      ]
    },
    {
      "cell_type": "code",
      "source": [
        "# Step 3: Filter the DataFrame or table created in Step 2, and create a new DataFrame or table that retrieves all the rows where a review was written as part\n",
        "# of the Vine program (paid), vine == 'Y'.\n",
        "\n",
        "vineY_df = helpful50_df.filter(helpful50_df[\"vine\"] == \"Y\")\n",
        "vineY_df.show()"
      ],
      "metadata": {
        "colab": {
          "base_uri": "https://localhost:8080/"
        },
        "id": "5ti7vbeYUp78",
        "outputId": "dfddd0ad-6a9f-449b-eda8-eeb435155461"
      },
      "execution_count": 10,
      "outputs": [
        {
          "output_type": "stream",
          "name": "stdout",
          "text": [
            "+--------------+-----------+-------------+-----------+----+-----------------+\n",
            "|     review_id|star_rating|helpful_votes|total_votes|vine|verified_purchase|\n",
            "+--------------+-----------+-------------+-----------+----+-----------------+\n",
            "|R28DXTC3JQ9IY1|          4|           24|         26|   Y|                N|\n",
            "|R3AFZKLQXATHBU|          5|           44|         49|   Y|                N|\n",
            "|R2RUUF2JPJPC0E|          4|           20|         22|   Y|                N|\n",
            "| RFZ2WUH4248AB|          2|           26|         27|   Y|                N|\n",
            "|R1Q4LVHIFOWYFR|          5|           23|         28|   Y|                N|\n",
            "| R4YEPTQED3X1Q|          5|           19|         20|   Y|                N|\n",
            "|R2Z7C8YCRSC9DP|          5|           22|         22|   Y|                N|\n",
            "|R3J8OI5CB74P5K|          1|           22|         25|   Y|                N|\n",
            "| RH39LMKN6AZDC|          5|           33|         40|   Y|                N|\n",
            "| R8RD8K0ESJSRD|          5|           21|         21|   Y|                N|\n",
            "| R6P04SW0Z1FCR|          5|           20|         25|   Y|                N|\n",
            "|R32LMNP5ZU2F6G|          3|           33|         37|   Y|                N|\n",
            "|R21L9F1CIGVQ7H|          5|           35|         45|   Y|                N|\n",
            "|R3407EU7EKOUMA|          4|           31|         40|   Y|                N|\n",
            "| RDFMCB5Q7U0UW|          4|          152|        155|   Y|                N|\n",
            "|R2U38GEWPJG6JI|          5|           63|         66|   Y|                N|\n",
            "|R1E24YIQRGSP10|          5|           30|         40|   Y|                N|\n",
            "|R3L7PBHQGA3LB0|          3|           14|         20|   Y|                N|\n",
            "| R91BX5ZLRONPJ|          4|           16|         21|   Y|                N|\n",
            "|R1P31XRPGIF50W|          4|           33|         38|   Y|                N|\n",
            "+--------------+-----------+-------------+-----------+----+-----------------+\n",
            "only showing top 20 rows\n",
            "\n"
          ]
        }
      ]
    },
    {
      "cell_type": "code",
      "source": [
        "# Step 4: Repeat Step 3, but this time retrieve all the rows where the review was not part of the Vine program (unpaid), vine == 'N'.\n",
        "vineN_df = helpful50_df.filter(helpful50_df[\"vine\"] == \"N\")\n",
        "vineN_df.show()"
      ],
      "metadata": {
        "colab": {
          "base_uri": "https://localhost:8080/"
        },
        "id": "CYOnPGlnVfTR",
        "outputId": "ee455081-4fe3-4146-b518-aa90beadb834"
      },
      "execution_count": 11,
      "outputs": [
        {
          "output_type": "stream",
          "name": "stdout",
          "text": [
            "+--------------+-----------+-------------+-----------+----+-----------------+\n",
            "|     review_id|star_rating|helpful_votes|total_votes|vine|verified_purchase|\n",
            "+--------------+-----------+-------------+-----------+----+-----------------+\n",
            "| RQQ3KVTU5TJ4I|          5|           24|         29|   N|                Y|\n",
            "|R3FELXWV9T5CWE|          2|           22|         24|   N|                Y|\n",
            "| ROBYK6EZYK398|          5|           29|         30|   N|                Y|\n",
            "|R2YVBBR6NXIA4V|          5|           25|         28|   N|                N|\n",
            "|R2AVTBDIVG2AW4|          5|           26|         26|   N|                N|\n",
            "|R1Z2LNN3FANMTO|          1|           20|         24|   N|                N|\n",
            "|  RLNULBKRWNNR|          5|           42|         43|   N|                Y|\n",
            "| R9QNQUL94RX1F|          3|           27|         33|   N|                Y|\n",
            "| RTULFZTUS1VBP|          5|           51|         52|   N|                Y|\n",
            "|R1BM9RBQWI62O2|          5|           43|         60|   N|                N|\n",
            "| RWB6V9IYCOJFX|          4|           39|         41|   N|                Y|\n",
            "|R15FA7GCXKC7YE|          1|           40|         41|   N|                Y|\n",
            "|R2OQAI6AV8AH8Z|          1|           19|         32|   N|                Y|\n",
            "|R2XD5CWZ4Z87ZR|          5|           19|         25|   N|                Y|\n",
            "|R3LLBXVCEY5JKB|          1|           33|         35|   N|                Y|\n",
            "| RQWM8U7YH93TT|          4|           92|         93|   N|                N|\n",
            "|R2DEO6P7BEZ9UI|          5|           38|         38|   N|                Y|\n",
            "|R2CKYIHUSK3IEP|          1|           74|         88|   N|                Y|\n",
            "| RY0DMUQKNF8MT|          5|           32|         33|   N|                Y|\n",
            "|R33XCAJDTPOUQS|          5|           22|         23|   N|                Y|\n",
            "+--------------+-----------+-------------+-----------+----+-----------------+\n",
            "only showing top 20 rows\n",
            "\n"
          ]
        }
      ]
    },
    {
      "cell_type": "code",
      "source": [
        "# Step 5 Determine the total number of reviews, the number of 5-star reviews, and the percentage of 5-star reviews for the two types of review \n",
        "# (paid vs unpaid).\n",
        "\n",
        "total_paid_reviews = vineY_df.count()\n",
        "total_paid_reviews"
      ],
      "metadata": {
        "id": "p5X_I_JmVtq5",
        "colab": {
          "base_uri": "https://localhost:8080/"
        },
        "outputId": "f3cabd66-2c8b-4d4c-aaf5-73d824e88486"
      },
      "execution_count": 12,
      "outputs": [
        {
          "output_type": "execute_result",
          "data": {
            "text/plain": [
              "386"
            ]
          },
          "metadata": {},
          "execution_count": 12
        }
      ]
    },
    {
      "cell_type": "code",
      "source": [
        "total_unpaid_reviews = vineN_df.count()\n",
        "total_unpaid_reviews"
      ],
      "metadata": {
        "colab": {
          "base_uri": "https://localhost:8080/"
        },
        "id": "3HV66yRszymY",
        "outputId": "99733364-ab7c-4edc-c622-48471973b083"
      },
      "execution_count": 13,
      "outputs": [
        {
          "output_type": "execute_result",
          "data": {
            "text/plain": [
              "48717"
            ]
          },
          "metadata": {},
          "execution_count": 13
        }
      ]
    },
    {
      "cell_type": "code",
      "source": [
        "fivestar_paid_reviews = vineY_df.where(vineY_df[\"star_rating\"] ==5).count()\n",
        "fivestar_paid_reviews"
      ],
      "metadata": {
        "colab": {
          "base_uri": "https://localhost:8080/"
        },
        "id": "fwyyypBFd_na",
        "outputId": "c89d38a8-8be5-417b-981d-6ea6fb7c21f9"
      },
      "execution_count": 14,
      "outputs": [
        {
          "output_type": "execute_result",
          "data": {
            "text/plain": [
              "176"
            ]
          },
          "metadata": {},
          "execution_count": 14
        }
      ]
    },
    {
      "cell_type": "code",
      "source": [
        "fivestar_unpaid_reviews = vineN_df.where(vineN_df[\"star_rating\"] ==5).count()\n",
        "fivestar_unpaid_reviews"
      ],
      "metadata": {
        "colab": {
          "base_uri": "https://localhost:8080/"
        },
        "id": "r6atPoGVe5gq",
        "outputId": "bb24e3fe-6e47-47d4-e820-276ab4df5bc5"
      },
      "execution_count": 15,
      "outputs": [
        {
          "output_type": "execute_result",
          "data": {
            "text/plain": [
              "24026"
            ]
          },
          "metadata": {},
          "execution_count": 15
        }
      ]
    },
    {
      "cell_type": "code",
      "source": [
        "percent_paid_top_reviews = (fivestar_paid_reviews/total_paid_reviews) * 100\n",
        "percent_paid_top_reviews"
      ],
      "metadata": {
        "colab": {
          "base_uri": "https://localhost:8080/"
        },
        "id": "N8-6ErbAfD9h",
        "outputId": "0f00b0c1-6c2d-4095-d9f7-84e879d127c0"
      },
      "execution_count": 16,
      "outputs": [
        {
          "output_type": "execute_result",
          "data": {
            "text/plain": [
              "45.59585492227979"
            ]
          },
          "metadata": {},
          "execution_count": 16
        }
      ]
    },
    {
      "cell_type": "code",
      "source": [
        "percent_unpaid_top_reviews = (fivestar_unpaid_reviews/total_unpaid_reviews) * 100\n",
        "percent_unpaid_top_reviews"
      ],
      "metadata": {
        "colab": {
          "base_uri": "https://localhost:8080/"
        },
        "id": "dRyPBLDjffEa",
        "outputId": "97f32c00-31eb-42d1-b521-fd9790e811ae"
      },
      "execution_count": 17,
      "outputs": [
        {
          "output_type": "execute_result",
          "data": {
            "text/plain": [
              "49.317486708951705"
            ]
          },
          "metadata": {},
          "execution_count": 17
        }
      ]
    },
    {
      "cell_type": "code",
      "source": [
        ""
      ],
      "metadata": {
        "id": "eeUzHZ5xfvgs"
      },
      "execution_count": null,
      "outputs": []
    }
  ]
}